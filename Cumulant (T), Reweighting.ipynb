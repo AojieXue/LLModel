{
 "cells": [
  {
   "cell_type": "code",
   "execution_count": 3,
   "metadata": {},
   "outputs": [],
   "source": [
    "import matplotlib.pyplot as plt\n",
    "import numpy as np\n",
    "import math\n",
    "\n",
    "# define the number of bins and the number of data.\n",
    "numBin = 1000\n",
    "numData = 500000\n",
    "\n",
    "# define the number of MCS for equilibrium.\n",
    "skiprows = 2000\n",
    "\n",
    "# read data from files\n",
    "file = open('C:/Users/Aojie/Desktop//Data2/L20_1.1227_1.dat', 'r')\n",
    "lines = file.readlines()[skiprows:]\n",
    "\n",
    "# 'data' stores the values of total energy or order parameter.\n",
    "# 'x' stores values of midpoints of bins into which the data are divided.\n",
    "data = []\n",
    "x = []\n",
    "\n",
    "# stores values into 'data'\n",
    "for line in lines:\n",
    "    data.append(float(line.split('\\t')[1]) )\n",
    "    \n",
    "# define size of bins. leftend & rightend are values of both ends of bins.\n",
    "binsize = (max(data)-min(data))/numBin\n",
    "leftend = min(data)\n",
    "rightend = leftend + binsize\n",
    "\n",
    "# create a list for histogram\n",
    "hist = [0]*(numBin + 1)\n",
    "\n",
    "\n",
    "# iterate over each bin and increase the entry in \n",
    "# the histogram by 1 for each data \n",
    "# found to be in that bin\n",
    "index = 1\n",
    "while leftend < max(data) and index <= numBin:\n",
    "    for i in data:\n",
    "        if leftend <= i <= rightend:\n",
    "            hist[index] += 1\n",
    "    index += 1\n",
    "    x.append( (leftend + rightend)/2 )\n",
    "    leftend = rightend\n",
    "    rightend += binsize\n",
    "hist.remove(hist[0])"
   ]
  },
  {
   "cell_type": "code",
   "execution_count": 4,
   "metadata": {
    "scrolled": false
   },
   "outputs": [
    {
     "data": {
      "text/plain": [
       "<function matplotlib.pyplot.show(close=None, block=None)>"
      ]
     },
     "execution_count": 4,
     "metadata": {},
     "output_type": "execute_result"
    },
    {
     "data": {
      "image/png": "[encoded data removed]",
      "text/plain": [
       "<Figure size 432x288 with 1 Axes>"
      ]
     },
     "metadata": {
      "needs_background": "light"
     },
     "output_type": "display_data"
    }
   ],
   "source": [
    "# T is the temperature. \n",
    "# T0 and Tf are the initial and final temperatures.\n",
    "L = 20\n",
    "T0 = 1.100050\n",
    "T = 1.100050\n",
    "Tf = 1.1\n",
    "dT = 0.000001\n",
    "temperature = []\n",
    "\n",
    "# create a list for values of fourth-order cumulant\n",
    "U4 = []\n",
    "\n",
    "# calculate the probability distribution and fourth-order\n",
    "# cumulant at each temperature\n",
    "while T >= Tf:\n",
    "    \n",
    "    # calculate dk for each temperature.\n",
    "    dk = (1/T0 - 1/T)\n",
    "    histcopy = hist.copy()\n",
    "    \n",
    "    # calculate the denominator in Eq. 7.16 in A Guide to Monte Carlo Simulation\n",
    "    i = 0\n",
    "    N = 0\n",
    "    while i <= numBin-1:\n",
    "        N += histcopy[i]*(np.exp(dk*x[i]) )\n",
    "        i += 1\n",
    "    \n",
    "    # calculate the numerator in the same equation\n",
    "    i = 0\n",
    "    while i <= numBin-1:\n",
    "        histcopy[i] = histcopy[i]*( np.exp(dk*x[i]) )\n",
    "        i += 1\n",
    "        \n",
    "    histcopy = np.array(histcopy)\n",
    "    \n",
    "    # p is probability distribution\n",
    "    p = histcopy/N\n",
    "\n",
    "    # calculate values of numerator and denominator in Eq. 4.12\n",
    "    i = 0\n",
    "    E4 = 0\n",
    "    E2 = 0\n",
    "    while i < numBin:\n",
    "        # calculate the average using probability\n",
    "        # according to Eq. 7.17\n",
    "        E4 += ( ( (x[i]/L**3)**4)*p[i] )\n",
    "        E2 += ( ( (x[i]/L**3)**2)*p[i] )\n",
    "        i += 1\n",
    "    \n",
    "    # calculate the fourth-order cumulant.\n",
    "    u4 = 1 - E4/(3*(E2**2))\n",
    "    \n",
    "    temperature.append(T)\n",
    "    U4.append(u4)\n",
    "    T -= dT\n",
    "    \n",
    "plt.plot(temperature, U4,'o', markersize=1.5)\n",
    "plt.ylabel('U4')\n",
    "plt.xlabel('Temperature')\n",
    "plt.title('Fourth order Cumulant for Order Parameter')\n",
    "plt.show"
   ]
  }
 ],
 "metadata": {
  "kernelspec": {
   "display_name": "Python 3",
   "language": "python",
   "name": "python3"
  },
  "language_info": {
   "codemirror_mode": {
    "name": "ipython",
    "version": 3
   },
   "file_extension": ".py",
   "mimetype": "text/x-python",
   "name": "python",
   "nbconvert_exporter": "python",
   "pygments_lexer": "ipython3",
   "version": "3.8.5"
  }
 },
 "nbformat": 4,
 "nbformat_minor": 2
}
